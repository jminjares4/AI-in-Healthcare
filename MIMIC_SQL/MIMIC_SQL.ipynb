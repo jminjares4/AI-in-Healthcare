{
 "cells": [
  {
   "cell_type": "code",
   "execution_count": 62,
   "metadata": {},
   "outputs": [],
   "source": [
    "import pandas as pd\n",
    "import duckdb\n"
   ]
  },
  {
   "cell_type": "code",
   "execution_count": 80,
   "metadata": {},
   "outputs": [],
   "source": [
    "# Load CSV files into DuckDB\n",
    "con = duckdb.connect()"
   ]
  },
  {
   "cell_type": "code",
   "execution_count": 81,
   "metadata": {},
   "outputs": [
    {
     "data": {
      "text/plain": [
       "<duckdb.duckdb.DuckDBPyConnection at 0x117dff730>"
      ]
     },
     "execution_count": 81,
     "metadata": {},
     "output_type": "execute_result"
    }
   ],
   "source": [
    "# Load data from CSV files with error handling\n",
    "con.execute(\"\"\"\n",
    "CREATE TABLE IF NOT EXISTS ADMISSIONS AS SELECT * FROM read_csv_auto('data/ADMISSIONS.csv', ignore_errors=true);\n",
    "CREATE TABLE IF NOT EXISTS D_ICD_DIAGNOSES AS SELECT * FROM read_csv_auto('data/D_ICD_DIAGNOSES.csv', ignore_errors=true);\n",
    "CREATE TABLE IF NOT EXISTS DIAGNOSES_ICD AS SELECT * FROM read_csv_auto('data/DIAGNOSES_ICD.csv', ignore_errors=true);\n",
    "CREATE TABLE IF NOT EXISTS PATIENTS AS SELECT * FROM read_csv_auto('data/PATIENTS.csv', ignore_errors=true);\n",
    "CREATE TABLE IF NOT EXISTS PRESCRIPTIONS AS SELECT * FROM read_csv_auto('data/PRESCRIPTIONS.csv', ignore_errors=true);\n",
    "CREATE TABLE IF NOT EXISTS ICUSTAYS AS SELECT * FROM read_csv_auto('data/ICUSTAYS.csv', ignore_errors=true);\n",
    "CREATE TABLE IF NOT EXISTS D_ICD_PROCEDURES AS SELECT * FROM read_csv_auto('data/D_ICD_PROCEDURES.csv', ignore_errors=true);\n",
    "CREATE TABLE IF NOT EXISTS PROCEDURES_ICD AS SELECT * FROM read_csv_auto('data/PROCEDURES_ICD.csv', ignore_errors=true);\n",
    "\"\"\")\n"
   ]
  },
  {
   "cell_type": "code",
   "execution_count": 82,
   "metadata": {},
   "outputs": [
    {
     "name": "stdout",
     "output_type": "stream",
     "text": [
      "   diabetes_admissions\n",
      "0                11742\n"
     ]
    }
   ],
   "source": [
    "# 1. Retrieve the count of diabetes-related hospital admissions\n",
    "diabetes_admissions = con.execute(\"\"\"\n",
    "SELECT COUNT(*) AS diabetes_admissions\n",
    "FROM ADMISSIONS\n",
    "JOIN DIAGNOSES_ICD ON ADMISSIONS.hadm_id = DIAGNOSES_ICD.hadm_id\n",
    "WHERE DIAGNOSES_ICD.icd9_code LIKE '250%';\n",
    "\"\"\").fetchdf()\n",
    "print(diabetes_admissions.head())\n"
   ]
  },
  {
   "cell_type": "code",
   "execution_count": 83,
   "metadata": {},
   "outputs": [
    {
     "name": "stdout",
     "output_type": "stream",
     "text": [
      "                                          LONG_TITLE  diagnosis_count\n",
      "0  Diabetes mellitus without mention of complicat...             9058\n",
      "1  Diabetes with neurological manifestations, typ...             1138\n",
      "2  Diabetes with renal manifestations, type II or...              954\n",
      "3  Diabetes mellitus without mention of complicat...              454\n",
      "4  Diabetes with other specified manifestations, ...              447\n"
     ]
    }
   ],
   "source": [
    "# 2. List the top 5 most common diabetes-related diagnoses\n",
    "diabetes_diagnoses = con.execute(\"\"\"\n",
    "SELECT D_ICD_DIAGNOSES.long_title, COUNT(*) AS diagnosis_count\n",
    "FROM DIAGNOSES_ICD\n",
    "JOIN D_ICD_DIAGNOSES ON DIAGNOSES_ICD.icd9_code = D_ICD_DIAGNOSES.icd9_code\n",
    "WHERE DIAGNOSES_ICD.icd9_code LIKE '250%'\n",
    "GROUP BY D_ICD_DIAGNOSES.long_title\n",
    "ORDER BY diagnosis_count DESC\n",
    "LIMIT 5;\n",
    "\"\"\").fetchdf()\n",
    "print(diabetes_diagnoses.head())"
   ]
  },
  {
   "cell_type": "code",
   "execution_count": 84,
   "metadata": {},
   "outputs": [
    {
     "name": "stdout",
     "output_type": "stream",
     "text": [
      "   avg_length_of_stay\n",
      "0            9.245784\n"
     ]
    }
   ],
   "source": [
    "# 3. Find the average length of stay for diabetes patients\n",
    "avg_length_of_stay = con.execute(\"\"\"\n",
    "SELECT AVG(EXTRACT(DAY FROM (dischtime - admittime))) AS avg_length_of_stay\n",
    "FROM ADMISSIONS\n",
    "JOIN DIAGNOSES_ICD ON ADMISSIONS.hadm_id = DIAGNOSES_ICD.hadm_id\n",
    "WHERE DIAGNOSES_ICD.icd9_code LIKE '250%';\n",
    "\"\"\").fetchdf()\n",
    "print(avg_length_of_stay.head())\n"
   ]
  },
  {
   "cell_type": "code",
   "execution_count": 85,
   "metadata": {},
   "outputs": [
    {
     "name": "stdout",
     "output_type": "stream",
     "text": [
      "  GENDER  count\n",
      "0      F   7280\n",
      "1      M   9174\n"
     ]
    }
   ],
   "source": [
    "# 4. Get the gender distribution of diabetes patients\n",
    "gender_distribution = con.execute(\"\"\"\n",
    "SELECT PATIENTS.gender, COUNT(*) AS count\n",
    "FROM PATIENTS\n",
    "JOIN DIAGNOSES_ICD ON PATIENTS.subject_id = DIAGNOSES_ICD.subject_id\n",
    "WHERE DIAGNOSES_ICD.icd9_code LIKE '250%'\n",
    "GROUP BY PATIENTS.gender;\n",
    "\"\"\").fetchdf()\n",
    "print(gender_distribution.head())"
   ]
  },
  {
   "cell_type": "code",
   "execution_count": 86,
   "metadata": {},
   "outputs": [
    {
     "name": "stdout",
     "output_type": "stream",
     "text": [
      "                   DRUG  prescription_count\n",
      "0               Insulin               89803\n",
      "1    Potassium Chloride               39150\n",
      "2  0.9% Sodium Chloride               36670\n"
     ]
    }
   ],
   "source": [
    "# 5. Identify the top 3 most prescribed medications for diabetes patients\n",
    "top_medications = con.execute(\"\"\"\n",
    "SELECT PRESCRIPTIONS.drug, COUNT(*) AS prescription_count\n",
    "FROM PRESCRIPTIONS\n",
    "JOIN ADMISSIONS ON PRESCRIPTIONS.hadm_id = ADMISSIONS.hadm_id\n",
    "JOIN DIAGNOSES_ICD ON ADMISSIONS.hadm_id = DIAGNOSES_ICD.hadm_id\n",
    "WHERE DIAGNOSES_ICD.icd9_code LIKE '250%'\n",
    "GROUP BY PRESCRIPTIONS.drug\n",
    "ORDER BY prescription_count DESC\n",
    "LIMIT 3;\n",
    "\"\"\").fetchdf()\n",
    "print(top_medications.head())"
   ]
  },
  {
   "cell_type": "code",
   "execution_count": 87,
   "metadata": {},
   "outputs": [
    {
     "name": "stdout",
     "output_type": "stream",
     "text": [
      "   mortality_rate\n",
      "0        9.930165\n"
     ]
    }
   ],
   "source": [
    "# 6. Find the percentage of diabetes patients who expired in the hospital\n",
    "mortality_rate = con.execute(\"\"\"\n",
    "SELECT (SUM(hospital_expire_flag) * 100.0 / COUNT(*)) AS mortality_rate\n",
    "FROM ADMISSIONS\n",
    "JOIN DIAGNOSES_ICD ON ADMISSIONS.hadm_id = DIAGNOSES_ICD.hadm_id\n",
    "WHERE DIAGNOSES_ICD.icd9_code LIKE '250%';\n",
    "\"\"\").fetchdf()\n",
    "print(mortality_rate.head())"
   ]
  },
  {
   "cell_type": "code",
   "execution_count": 88,
   "metadata": {},
   "outputs": [
    {
     "name": "stdout",
     "output_type": "stream",
     "text": [
      "    INSURANCE  count\n",
      "0    Medicare   7462\n",
      "1     Private   2906\n",
      "2    Medicaid   1062\n",
      "3  Government    251\n",
      "4    Self Pay     61\n"
     ]
    }
   ],
   "source": [
    "# 7. List the most common insurance types for diabetes patients\n",
    "insurance_types = con.execute(\"\"\"\n",
    "SELECT insurance, COUNT(*) AS count\n",
    "FROM ADMISSIONS\n",
    "JOIN DIAGNOSES_ICD ON ADMISSIONS.hadm_id = DIAGNOSES_ICD.hadm_id\n",
    "WHERE DIAGNOSES_ICD.icd9_code LIKE '250%'\n",
    "GROUP BY insurance\n",
    "ORDER BY count DESC;\n",
    "\"\"\").fetchdf()\n",
    "print(insurance_types.head())"
   ]
  },
  {
   "cell_type": "code",
   "execution_count": 89,
   "metadata": {},
   "outputs": [
    {
     "name": "stdout",
     "output_type": "stream",
     "text": [
      "   icu_admissions\n",
      "0           12378\n"
     ]
    }
   ],
   "source": [
    "# 8. Find the number of ICU admissions for diabetes patients\n",
    "icu_admissions = con.execute(\"\"\"\n",
    "SELECT COUNT(*) AS icu_admissions\n",
    "FROM ICUSTAYS\n",
    "JOIN ADMISSIONS ON ICUSTAYS.hadm_id = ADMISSIONS.hadm_id\n",
    "JOIN DIAGNOSES_ICD ON ADMISSIONS.hadm_id = DIAGNOSES_ICD.hadm_id\n",
    "WHERE DIAGNOSES_ICD.icd9_code LIKE '250%';\n",
    "\"\"\").fetchdf()\n",
    "print(icu_admissions.head())"
   ]
  },
  {
   "cell_type": "code",
   "execution_count": 90,
   "metadata": {},
   "outputs": [
    {
     "name": "stdout",
     "output_type": "stream",
     "text": [
      "                                          LONG_TITLE  procedure_count\n",
      "0   Venous catheterization, not elsewhere classified             5129\n",
      "1                     Insertion of endotracheal tube             2660\n",
      "2                        Transfusion of packed cells             2357\n",
      "3  Continuous invasive mechanical ventilation for...             2335\n",
      "4  Extracorporeal circulation auxiliary to open h...             2333\n"
     ]
    }
   ],
   "source": [
    "# 9. Retrieve the most common procedures performed on diabetes patients\n",
    "common_procedures = con.execute(\"\"\"\n",
    "SELECT D_ICD_PROCEDURES.long_title, COUNT(*) AS procedure_count\n",
    "FROM PROCEDURES_ICD\n",
    "JOIN D_ICD_PROCEDURES ON PROCEDURES_ICD.icd9_code = D_ICD_PROCEDURES.icd9_code\n",
    "JOIN DIAGNOSES_ICD ON PROCEDURES_ICD.hadm_id = DIAGNOSES_ICD.hadm_id\n",
    "WHERE DIAGNOSES_ICD.icd9_code LIKE '250%'\n",
    "GROUP BY D_ICD_PROCEDURES.long_title\n",
    "ORDER BY procedure_count DESC\n",
    "LIMIT 5;\n",
    "\"\"\").fetchdf()\n",
    "print(common_procedures.head())"
   ]
  },
  {
   "cell_type": "code",
   "execution_count": 91,
   "metadata": {},
   "outputs": [
    {
     "name": "stdout",
     "output_type": "stream",
     "text": [
      "   SUBJECT_ID  readmission_count\n",
      "0       13033                 66\n",
      "1       11861                 56\n",
      "2        7809                 47\n",
      "3       58163                 32\n",
      "4        8799                 31\n"
     ]
    }
   ],
   "source": [
    "# 10. Nested query: Find patients with multiple diabetes-related hospitalizations\n",
    "multiple_hospitalizations = con.execute(\"\"\"\n",
    "SELECT diabetes_patients.subject_id, COUNT(diabetes_patients.hadm_id) AS readmission_count\n",
    "FROM (\n",
    "    SELECT ADMISSIONS.subject_id, ADMISSIONS.hadm_id\n",
    "    FROM ADMISSIONS\n",
    "    JOIN DIAGNOSES_ICD ON ADMISSIONS.hadm_id = DIAGNOSES_ICD.hadm_id\n",
    "    WHERE DIAGNOSES_ICD.icd9_code LIKE '250%'\n",
    ") AS diabetes_patients\n",
    "GROUP BY diabetes_patients.subject_id\n",
    "HAVING COUNT(diabetes_patients.hadm_id) > 1\n",
    "ORDER BY readmission_count DESC;\n",
    "\"\"\").fetchdf()\n",
    "\n",
    "print(multiple_hospitalizations.head())\n"
   ]
  },
  {
   "cell_type": "code",
   "execution_count": 92,
   "metadata": {},
   "outputs": [],
   "source": [
    "# Close connection\n",
    "con.close()"
   ]
  }
 ],
 "metadata": {
  "kernelspec": {
   "display_name": "ai_healthcare",
   "language": "python",
   "name": "python3"
  },
  "language_info": {
   "codemirror_mode": {
    "name": "ipython",
    "version": 3
   },
   "file_extension": ".py",
   "mimetype": "text/x-python",
   "name": "python",
   "nbconvert_exporter": "python",
   "pygments_lexer": "ipython3",
   "version": "3.12.6"
  }
 },
 "nbformat": 4,
 "nbformat_minor": 2
}
