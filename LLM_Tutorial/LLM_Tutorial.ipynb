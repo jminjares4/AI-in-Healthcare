{
 "cells": [
  {
   "cell_type": "code",
   "execution_count": 46,
   "metadata": {},
   "outputs": [],
   "source": [
    "# Import libraries\n",
    "from openai import OpenAI\n",
    "import pandas as pd\n",
    "import numpy as np\n",
    "import json\n",
    "import time\n",
    "from tqdm import tqdm\n",
    "from sklearn.metrics import accuracy_score\n",
    "from sklearn.neighbors import KNeighborsClassifier\n",
    "from textstat import flesch_kincaid_grade\n",
    "import matplotlib.pyplot as plt\n",
    "import backoff  # For retry mechanism\n"
   ]
  },
  {
   "cell_type": "markdown",
   "metadata": {},
   "source": [
    "# Section 1: Initialize OpenAI API\n",
    "\n",
    "Set up the OpenAI API client with the new syntax (openai>=1.0.0)."
   ]
  },
  {
   "cell_type": "code",
   "execution_count": 73,
   "metadata": {},
   "outputs": [],
   "source": [
    "# Load API key from open_key.txt\n",
    "try:\n",
    "    with open(\"openai_key.txt\", \"r\") as key_file:\n",
    "        api_key = key_file.read().strip()\n",
    "    if not api_key:\n",
    "        raise ValueError(\"open_key.txt is empty or missing API key.\")\n",
    "except FileNotFoundError:\n",
    "    raise FileNotFoundError(\"open_key.txt not found. Please create it with your OpenAI API key.\")\n",
    "\n",
    "client = OpenAI(api_key=api_key)"
   ]
  },
  {
   "cell_type": "code",
   "execution_count": 58,
   "metadata": {},
   "outputs": [],
   "source": [
    "# Define backoff for rate limit handling\n",
    "@backoff.on_exception(backoff.expo, Exception, max_tries=5)\n",
    "def call_openai(prompt, max_tokens=150, model=\"gpt-4o\"):\n",
    "    \"\"\"Wrapper for OpenAI API (v1.0.0+) with retry for rate limits and reduced prompt size.\"\"\"\n",
    "    try:\n",
    "        response = client.chat.completions.create(\n",
    "            model=model,\n",
    "            messages=[{\"role\": \"user\", \"content\": prompt}],\n",
    "            max_tokens=max_tokens,\n",
    "            temperature=0.7\n",
    "        )\n",
    "        result = response.choices[0].message.content.strip()\n",
    "        print(f\"Prompt: {prompt[:50]}...\")  # Log for tracking\n",
    "        print(f\"Response: {result}\\n\")\n",
    "        return result\n",
    "    except Exception as e:\n",
    "        print(f\"OpenAI API error: {e}\")\n",
    "        raise  # Re-raise for backoff to handle"
   ]
  },
  {
   "cell_type": "markdown",
   "metadata": {},
   "source": [
    "# Section 2: Load and Analyze Synthea Dataset\n",
    "\n",
    "Load synthetic data (including medications) and analyze diabetes prevalence."
   ]
  },
  {
   "cell_type": "code",
   "execution_count": 59,
   "metadata": {},
   "outputs": [
    {
     "name": "stdout",
     "output_type": "stream",
     "text": [
      "Diabetic patients with glucose data: 42\n",
      "Non-diabetic patients with glucose data: 0\n",
      "Diabetes Prevalence (Conditions): 35.85%\n",
      "Obesity Prevalence: 42.45%\n",
      "Diabetes Medication Prevalence: 8.49%\n",
      "Avg Glucose (Diabetic): 84.50 mg/dL\n",
      "Avg Glucose (Non-Diabetic): No data available\n"
     ]
    }
   ],
   "source": [
    "def load_synthea_data():\n",
    "    \"\"\"Load Synthea CSV files, including medications.\"\"\"\n",
    "    try:\n",
    "        patients = pd.read_csv(\"synthea/patients.csv\")\n",
    "        conditions = pd.read_csv(\"synthea/conditions.csv\")\n",
    "        observations = pd.read_csv(\"synthea/observations.csv\")\n",
    "        medications = pd.read_csv(\"synthea/medications.csv\")\n",
    "        return patients, conditions, observations, medications\n",
    "    except FileNotFoundError as e:\n",
    "        print(f\"Error loading dataset: {e}\")\n",
    "        return None, None, None, None\n",
    "\n",
    "patients, conditions, observations, medications = load_synthea_data()\n",
    "if patients is None:\n",
    "    raise SystemExit(\"Failed to load Synthea dataset.\")\n",
    "\n",
    "# Analyze diabetes prevalence and risk factors\n",
    "diabetes_patients = conditions[conditions[\"DESCRIPTION\"].str.lower().str.contains(\"diabetes\")][\"PATIENT\"].nunique()\n",
    "total_patients = patients[\"Id\"].nunique()\n",
    "diabetes_prevalence = diabetes_patients / total_patients\n",
    "\n",
    "# Obesity prevalence (risk factor)\n",
    "obesity_patients = conditions[conditions[\"DESCRIPTION\"].str.lower().str.contains(\"obesity\")][\"PATIENT\"].nunique()\n",
    "obesity_prevalence = obesity_patients / total_patients\n",
    "\n",
    "# Diabetes-related medication prevalence (e.g., metformin, insulin)\n",
    "diabetes_meds = [\"metformin\", \"insulin\"]  # Common diabetes medications\n",
    "diabetes_med_patients = medications[medications[\"DESCRIPTION\"].str.lower().str.contains('|'.join(diabetes_meds))][\"PATIENT\"].nunique()\n",
    "diabetes_med_prevalence = diabetes_med_patients / total_patients\n",
    "\n",
    "# Glucose levels with NaN handling, filtering for Glucose only\n",
    "diabetic_ids = conditions[conditions[\"DESCRIPTION\"].str.lower().str.contains(\"diabetes\")][\"PATIENT\"].unique()\n",
    "glucose_data = observations[observations[\"DESCRIPTION\"] == \"Glucose\"].copy()  # Pre-filter for glucose\n",
    "\n",
    "# Diabetic glucose calculation\n",
    "diabetic_glucose_data = glucose_data.loc[glucose_data[\"PATIENT\"].isin(diabetic_ids)]\n",
    "glucose_diabetic = diabetic_glucose_data[\"VALUE\"].astype(float).mean() if not diabetic_glucose_data.empty else np.nan\n",
    "\n",
    "# Non-diabetic glucose calculation\n",
    "non_diabetic_glucose_data = glucose_data.loc[~glucose_data[\"PATIENT\"].isin(diabetic_ids)]\n",
    "glucose_non_diabetic = non_diabetic_glucose_data[\"VALUE\"].astype(float).mean() if not non_diabetic_glucose_data.empty else np.nan\n",
    "\n",
    "# Check glucose data presence\n",
    "diabetic_glucose_count = len(diabetic_glucose_data)\n",
    "non_diabetic_glucose_count = len(non_diabetic_glucose_data)\n",
    "print(f\"Diabetic patients with glucose data: {diabetic_glucose_count}\")\n",
    "print(f\"Non-diabetic patients with glucose data: {non_diabetic_glucose_count}\")\n",
    "\n",
    "# Print results, handling NaN gracefully\n",
    "print(f\"Diabetes Prevalence (Conditions): {diabetes_prevalence:.2%}\")\n",
    "print(f\"Obesity Prevalence: {obesity_prevalence:.2%}\")\n",
    "print(f\"Diabetes Medication Prevalence: {diabetes_med_prevalence:.2%}\")\n",
    "print(f\"Avg Glucose (Diabetic): {glucose_diabetic:.2f} mg/dL\" if not np.isnan(glucose_diabetic) else \"Avg Glucose (Diabetic): No data available\")\n",
    "print(f\"Avg Glucose (Non-Diabetic): {glucose_non_diabetic:.2f} mg/dL\" if not np.isnan(glucose_non_diabetic) else \"Avg Glucose (Non-Diabetic): No data available\")"
   ]
  },
  {
   "cell_type": "markdown",
   "metadata": {},
   "source": [
    "# Section 3: Simplify Medical Notes (ICL + Few-Shot)\n",
    "\n",
    "Simplify notes for low-literacy patients using ICL and plot readability scores."
   ]
  },
  {
   "cell_type": "code",
   "execution_count": 60,
   "metadata": {},
   "outputs": [
    {
     "name": "stdout",
     "output_type": "stream",
     "text": [
      "\n",
      "Simplification Results:\n",
      "Original: Medication review due (situation)\n",
      "Simplified: Time to check your medications.\n",
      "Flesch-Kincaid Grade: 5.2\n",
      "\n",
      "Original: Otitis media (disorder)\n",
      "Simplified: The patient has an ear infection.\n",
      "Flesch-Kincaid Grade: 4.5\n",
      "\n",
      "Original: Viral sinusitis (disorder)\n",
      "Simplified: The patient has a sinus infection caused by a virus.\n",
      "Flesch-Kincaid Grade: 6.0\n",
      "\n",
      "Original: Primary dental caries (disorder)\n",
      "Simplified: The patient has a cavity in their tooth.\n",
      "Flesch-Kincaid Grade: 4.1\n",
      "\n",
      "Original: Laceration - injury (disorder)\n",
      "Simplified: The patient has a cut.\n",
      "Flesch-Kincaid Grade: 0.5\n",
      "\n"
     ]
    },
    {
     "data": {
      "image/png": "[encoded data removed]",
      "text/plain": [
       "<Figure size 1000x600 with 1 Axes>"
      ]
     },
     "metadata": {},
     "output_type": "display_data"
    }
   ],
   "source": [
    "def simplify_medical_notes(note):\n",
    "    \"\"\"Simplify a medical note using ICL with few-shot examples.\"\"\"\n",
    "    prompt = f\"\"\"\n",
    "You are an AI that simplifies medical notes for low-literacy patients. Use simple words and short sentences. Avoid jargon.\n",
    "Here are three examples:\n",
    "\n",
    "Example 1:\n",
    "Input: Patient diagnosed with hypertension and prescribed lisinopril.\n",
    "Output: The patient has high blood pressure. They will take lisinopril to help.\n",
    "\n",
    "Example 2:\n",
    "Input: Patient presents with hyperglycemia and requires insulin therapy.\n",
    "Output: The patient has high blood sugar. They need insulin shots.\n",
    "\n",
    "Example 3:\n",
    "Input: Patient has type 2 diabetes mellitus and is prescribed metformin.\n",
    "Output: The patient has diabetes. They will take metformin pills.\n",
    "\n",
    "Now simplify this note:\n",
    "Input: {note}\n",
    "Output:\n",
    "\"\"\"\n",
    "    return call_openai(prompt, max_tokens=100)\n",
    "\n",
    "# Hardcoded simplification results from your output\n",
    "sample_notes = [\n",
    "    \"Medication review due (situation)\",\n",
    "    \"Otitis media (disorder)\",\n",
    "    \"Viral sinusitis (disorder)\",\n",
    "    \"Primary dental caries (disorder)\",\n",
    "    \"Laceration - injury (disorder)\"\n",
    "]\n",
    "simplified_notes = [\n",
    "    \"Time to check your medications.\",\n",
    "    \"The patient has an ear infection.\",\n",
    "    \"The patient has a sinus infection caused by a virus.\",\n",
    "    \"The patient has a cavity in their tooth.\",\n",
    "    \"The patient has a cut.\"\n",
    "]\n",
    "fk_scores = [5.2, 4.5, 6.0, 4.1, 0.5]\n",
    "\n",
    "print(\"\\nSimplification Results:\")\n",
    "for orig, simp, score in zip(sample_notes, simplified_notes, fk_scores):\n",
    "    print(f\"Original: {orig}\")\n",
    "    print(f\"Simplified: {simp}\")\n",
    "    print(f\"Flesch-Kincaid Grade: {score}\\n\")\n",
    "\n",
    "# Plot readability scores in the cell\n",
    "plt.figure(figsize=(10, 6))\n",
    "plt.bar(sample_notes, fk_scores, color=\"skyblue\")\n",
    "plt.title(\"Flesch-Kincaid Readability Scores for Simplified Notes\")\n",
    "plt.xlabel(\"Original Medical Notes\")\n",
    "plt.ylabel(\"Flesch-Kincaid Grade\")\n",
    "plt.xticks(rotation=45, ha=\"right\")\n",
    "plt.tight_layout()\n",
    "plt.show()"
   ]
  },
  {
   "cell_type": "markdown",
   "metadata": {},
   "source": [
    "# Section 4: Predict Diabetes Risk (Chain-of-Thought)\n",
    "\n",
    "Predict diabetes risk using CoT reasoning with simplified prompts."
   ]
  },
  {
   "cell_type": "code",
   "execution_count": 61,
   "metadata": {},
   "outputs": [],
   "source": [
    "def predict_diabetes_cot(patient_id):\n",
    "    \"\"\"Predict diabetes risk using CoT with simplified prompt to avoid token limits.\"\"\"\n",
    "    patient_conditions = conditions[conditions[\"PATIENT\"] == patient_id][\"DESCRIPTION\"].tolist()[:5]  # Limit to 5 entries\n",
    "    patient_observations = observations[observations[\"PATIENT\"] == patient_id][[\"DESCRIPTION\", \"VALUE\"]].to_dict('records')[:5]  # Limit to 5 entries\n",
    "    patient_medications = medications[medications[\"PATIENT\"] == patient_id][\"DESCRIPTION\"].tolist()[:5]  # Limit to 5 entries\n",
    "    prompt = f\"\"\"\n",
    "You are a medical AI predicting diabetes risk. Use reasoning and respond with 'High', 'Medium', or 'Low'.\n",
    "1. Conditions (limited sample): {patient_conditions}.\n",
    "2. Observations (limited sample): {patient_observations}.\n",
    "3. Medications (limited sample): {patient_medications}.\n",
    "4. Analyze: High glucose (>126 mg/dL), obesity, diabetes history, or diabetes meds (e.g., metformin, insulin) suggest high risk. Normal glucose (<100 mg/dL) suggests low risk.\n",
    "5. Conclude: Risk level.\n",
    "Output only: High, Medium, or Low.\n",
    "\"\"\"\n",
    "    return call_openai(prompt, max_tokens=50)"
   ]
  },
  {
   "cell_type": "markdown",
   "metadata": {},
   "source": [
    "# Section 5: Differential Diagnosis (Tree-of-Thought)\n",
    "\n",
    "Perform differential diagnosis using ToT reasoning with simplified prompts."
   ]
  },
  {
   "cell_type": "code",
   "execution_count": 62,
   "metadata": {},
   "outputs": [],
   "source": [
    "def differential_diagnosis_tot(patient_id):\n",
    "    \"\"\"Perform differential diagnosis using ToT with simplified prompt to avoid token limits.\"\"\"\n",
    "    patient_conditions = conditions[conditions[\"PATIENT\"] == patient_id][\"DESCRIPTION\"].tolist()[:5]  # Limit to 5 entries\n",
    "    patient_observations = observations[observations[\"PATIENT\"] == patient_id][[\"DESCRIPTION\", \"VALUE\"]].to_dict('records')[:5]  # Limit to 5 entries\n",
    "    patient_medications = medications[medications[\"PATIENT\"] == patient_id][\"DESCRIPTION\"].tolist()[:5]  # Limit to 5 entries\n",
    "    prompt = f\"\"\"\n",
    "You are a medical AI performing differential diagnosis. Respond with the most likely diagnosis (e.g., 'Diabetes', 'Hypertension', 'Other').\n",
    "1. Conditions (limited sample): {patient_conditions}.\n",
    "2. Observations (limited sample): {patient_observations}.\n",
    "3. Medications (limited sample): {patient_medications}.\n",
    "4. Check: Diabetes (glucose, meds), Hypertension (blood pressure), or Other (symptoms).\n",
    "5. Conclude: Most likely diagnosis.\n",
    "Output only the diagnosis.\n",
    "\"\"\"\n",
    "    return call_openai(prompt, max_tokens=150)"
   ]
  },
  {
   "cell_type": "markdown",
   "metadata": {},
   "source": [
    "# Section 6: Evaluate Results with ML Prediction and Classification\n",
    "\n",
    "Evaluate CoT and ToT predictions with accuracy and use k-NN for diabetes risk prediction and classification."
   ]
  },
  {
   "cell_type": "code",
   "execution_count": 63,
   "metadata": {},
   "outputs": [],
   "source": [
    "def evaluate_simplification(original_notes, simplified_notes):\n",
    "    \"\"\"Evaluate readability with Flesch-Kincaid.\"\"\"\n",
    "    scores = []\n",
    "    for orig, simp in zip(original_notes, simplified_notes):\n",
    "        if simp and \"Error\" not in simp:\n",
    "            try:\n",
    "                fk_score = flesch_kincaid_grade(simp)\n",
    "                scores.append(fk_score)\n",
    "            except:\n",
    "                scores.append(None)\n",
    "        else:\n",
    "            scores.append(None)\n",
    "    return scores\n",
    "\n",
    "def evaluate_prediction(predictions, ground_truth):\n",
    "    \"\"\"Evaluate predictions with accuracy only (no ROC-AUC).\"\"\"\n",
    "    pred_binary = [1 if pred.lower() in [\"high\", \"diabetes\"] else 0 for pred in predictions]\n",
    "    acc = accuracy_score(ground_truth, pred_binary)\n",
    "    return acc\n",
    "\n",
    "def project_diabetes_risk(patient_ids):\n",
    "    \"\"\"Project diabetes risk using k-NN for prediction (labels) and classification (probabilities).\"\"\"\n",
    "    # Prepare features for all patients\n",
    "    all_patients = patients[\"Id\"].tolist()\n",
    "    features = pd.DataFrame(index=all_patients)\n",
    "    features[\"Obesity\"] = [1 if pid in conditions[conditions[\"DESCRIPTION\"].str.lower().str.contains(\"obesity\")][\"PATIENT\"].values else 0 for pid in all_patients]\n",
    "    glucose_data = observations[observations[\"DESCRIPTION\"] == \"Glucose\"]\n",
    "    features[\"Glucose\"] = [glucose_data[glucose_data[\"PATIENT\"] == pid][\"VALUE\"].astype(float).mean() if pid in glucose_data[\"PATIENT\"].values else 0.0 for pid in all_patients]\n",
    "    features[\"Diabetes_Meds\"] = [1 if pid in medications[medications[\"DESCRIPTION\"].str.lower().str.contains('|'.join(diabetes_meds))][\"PATIENT\"].values else 0 for pid in all_patients]\n",
    "    features = features.fillna(0)  # Replace NaN with 0 for missing glucose\n",
    "\n",
    "    # Ground truth for all patients\n",
    "    y_all = [1 if pid in conditions[conditions[\"DESCRIPTION\"].str.lower().str.contains(\"diabetes\")][\"PATIENT\"].values else 0 for pid in all_patients]\n",
    "\n",
    "    # Train k-NN classifier (k=5 for simplicity)\n",
    "    model = KNeighborsClassifier(n_neighbors=5)\n",
    "    model.fit(features, y_all)\n",
    "\n",
    "    # Predict for sampled patients\n",
    "    X_sample = features.loc[patient_ids]\n",
    "    predicted_labels = model.predict(X_sample)  # Binary predictions (0 or 1)\n",
    "    risk_probabilities = model.predict_proba(X_sample)[:, 1]  # Probability of diabetes (class 1)\n",
    "    return predicted_labels, risk_probabilities"
   ]
  },
  {
   "cell_type": "markdown",
   "metadata": {},
   "source": [
    "# Section 7: Visualize Prevalence\n",
    "\n",
    "Generate a bar plot for diabetes, obesity, and medication prevalence."
   ]
  },
  {
   "cell_type": "code",
   "execution_count": 64,
   "metadata": {},
   "outputs": [
    {
     "data": {
      "image/png": "[encoded data removed]",
      "text/plain": [
       "<Figure size 800x500 with 1 Axes>"
      ]
     },
     "metadata": {},
     "output_type": "display_data"
    }
   ],
   "source": [
    "# Bar plot: Prevalence\n",
    "plt.figure(figsize=(8, 5))\n",
    "plt.bar([\"Diabetes\", \"Obesity\", \"Diabetes Meds\"], [diabetes_prevalence, obesity_prevalence, diabetes_med_prevalence], \n",
    "        color=[\"blue\", \"orange\", \"purple\"])\n",
    "plt.title(\"Prevalence in Synthea Dataset\")\n",
    "plt.ylabel(\"Proportion\")\n",
    "plt.ylim(0, 1)\n",
    "plt.show()  # Display in cell"
   ]
  },
  {
   "cell_type": "markdown",
   "metadata": {},
   "source": [
    "# Section 8: Visualize Glucose Levels\n",
    "\n",
    "Generate a bar plot for average glucose levels (diabetic vs. non-diabetic)."
   ]
  },
  {
   "cell_type": "code",
   "execution_count": 65,
   "metadata": {},
   "outputs": [
    {
     "data": {
      "image/png": "[encoded data removed]",
      "text/plain": [
       "<Figure size 800x500 with 1 Axes>"
      ]
     },
     "metadata": {},
     "output_type": "display_data"
    }
   ],
   "source": [
    "# Bar plot: Glucose levels\n",
    "plt.figure(figsize=(8, 5))\n",
    "plt.bar([\"Diabetic\", \"Non-Diabetic\"], [glucose_diabetic, glucose_non_diabetic], color=[\"red\", \"green\"])\n",
    "plt.title(\"Average Glucose Levels\")\n",
    "plt.ylabel(\"mg/dL\")\n",
    "plt.show()  # Display in cell"
   ]
  },
  {
   "cell_type": "markdown",
   "metadata": {},
   "source": [
    "# Section 9: Visualize Diabetes Distribution\n",
    "\n",
    "Generate a pie chart for diabetes vs. non-diabetes distribution."
   ]
  },
  {
   "cell_type": "code",
   "execution_count": 66,
   "metadata": {},
   "outputs": [
    {
     "data": {
      "image/png": "[encoded data removed]",
      "text/plain": [
       "<Figure size 600x600 with 1 Axes>"
      ]
     },
     "metadata": {},
     "output_type": "display_data"
    }
   ],
   "source": [
    "# Pie chart: Diabetes vs. Non-Diabetes\n",
    "plt.figure(figsize=(6, 6))\n",
    "plt.pie([diabetes_patients, total_patients - diabetes_patients], labels=[\"Diabetic\", \"Non-Diabetic\"], \n",
    "        autopct=\"%1.1f%%\", colors=[\"red\", \"green\"])\n",
    "plt.title(\"Diabetes Distribution\")\n",
    "plt.show()  # Display in cell"
   ]
  },
  {
   "cell_type": "markdown",
   "metadata": {},
   "source": [
    "# Section 10: Main Execution\n",
    "\n",
    "Test on 20 patients with stratified sampling, visualize (already done above), predict and classify diabetes risk with k-NN, and save results."
   ]
  },
  {
   "cell_type": "code",
   "execution_count": 67,
   "metadata": {},
   "outputs": [
    {
     "name": "stderr",
     "output_type": "stream",
     "text": [
      "Predicting diabetes risk (CoT):   0%|          | 0/20 [00:00<?, ?it/s]"
     ]
    },
    {
     "name": "stdout",
     "output_type": "stream",
     "text": [
      "Prompt: \n",
      "You are a medical AI predicting diabetes risk. Us...\n",
      "Response: Medium\n",
      "\n"
     ]
    },
    {
     "name": "stderr",
     "output_type": "stream",
     "text": [
      "Predicting diabetes risk (CoT):   5%|▌         | 1/20 [00:03<00:59,  3.15s/it]"
     ]
    },
    {
     "name": "stdout",
     "output_type": "stream",
     "text": [
      "Prompt: \n",
      "You are a medical AI predicting diabetes risk. Us...\n",
      "Response: Medium\n",
      "\n"
     ]
    },
    {
     "name": "stderr",
     "output_type": "stream",
     "text": [
      "Predicting diabetes risk (CoT):  10%|█         | 2/20 [00:06<00:54,  3.01s/it]"
     ]
    },
    {
     "name": "stdout",
     "output_type": "stream",
     "text": [
      "Prompt: \n",
      "You are a medical AI predicting diabetes risk. Us...\n",
      "Response: Medium\n",
      "\n"
     ]
    },
    {
     "name": "stderr",
     "output_type": "stream",
     "text": [
      "Predicting diabetes risk (CoT):  15%|█▌        | 3/20 [00:08<00:47,  2.81s/it]"
     ]
    },
    {
     "name": "stdout",
     "output_type": "stream",
     "text": [
      "Prompt: \n",
      "You are a medical AI predicting diabetes risk. Us...\n",
      "Response: Medium\n",
      "\n"
     ]
    },
    {
     "name": "stderr",
     "output_type": "stream",
     "text": [
      "Predicting diabetes risk (CoT):  20%|██        | 4/20 [00:11<00:45,  2.85s/it]"
     ]
    },
    {
     "name": "stdout",
     "output_type": "stream",
     "text": [
      "Prompt: \n",
      "You are a medical AI predicting diabetes risk. Us...\n",
      "Response: Medium\n",
      "\n"
     ]
    },
    {
     "name": "stderr",
     "output_type": "stream",
     "text": [
      "Predicting diabetes risk (CoT):  25%|██▌       | 5/20 [00:14<00:41,  2.79s/it]"
     ]
    },
    {
     "name": "stdout",
     "output_type": "stream",
     "text": [
      "Prompt: \n",
      "You are a medical AI predicting diabetes risk. Us...\n",
      "Response: Medium\n",
      "\n"
     ]
    },
    {
     "name": "stderr",
     "output_type": "stream",
     "text": [
      "Predicting diabetes risk (CoT):  30%|███       | 6/20 [00:16<00:38,  2.77s/it]"
     ]
    },
    {
     "name": "stdout",
     "output_type": "stream",
     "text": [
      "Prompt: \n",
      "You are a medical AI predicting diabetes risk. Us...\n",
      "Response: Medium\n",
      "\n"
     ]
    },
    {
     "name": "stderr",
     "output_type": "stream",
     "text": [
      "Predicting diabetes risk (CoT):  35%|███▌      | 7/20 [00:20<00:37,  2.87s/it]"
     ]
    },
    {
     "name": "stdout",
     "output_type": "stream",
     "text": [
      "Prompt: \n",
      "You are a medical AI predicting diabetes risk. Us...\n",
      "Response: High\n",
      "\n"
     ]
    },
    {
     "name": "stderr",
     "output_type": "stream",
     "text": [
      "Predicting diabetes risk (CoT):  40%|████      | 8/20 [00:23<00:36,  3.01s/it]"
     ]
    },
    {
     "name": "stdout",
     "output_type": "stream",
     "text": [
      "Prompt: \n",
      "You are a medical AI predicting diabetes risk. Us...\n",
      "Response: Low\n",
      "\n"
     ]
    },
    {
     "name": "stderr",
     "output_type": "stream",
     "text": [
      "Predicting diabetes risk (CoT):  45%|████▌     | 9/20 [00:26<00:32,  2.93s/it]"
     ]
    },
    {
     "name": "stdout",
     "output_type": "stream",
     "text": [
      "Prompt: \n",
      "You are a medical AI predicting diabetes risk. Us...\n",
      "Response: High\n",
      "\n"
     ]
    },
    {
     "name": "stderr",
     "output_type": "stream",
     "text": [
      "Predicting diabetes risk (CoT):  50%|█████     | 10/20 [00:28<00:29,  2.91s/it]"
     ]
    },
    {
     "name": "stdout",
     "output_type": "stream",
     "text": [
      "Prompt: \n",
      "You are a medical AI predicting diabetes risk. Us...\n",
      "Response: Low\n",
      "\n"
     ]
    },
    {
     "name": "stderr",
     "output_type": "stream",
     "text": [
      "Predicting diabetes risk (CoT):  55%|█████▌    | 11/20 [00:36<00:40,  4.46s/it]"
     ]
    },
    {
     "name": "stdout",
     "output_type": "stream",
     "text": [
      "Prompt: \n",
      "You are a medical AI predicting diabetes risk. Us...\n",
      "Response: Low\n",
      "\n"
     ]
    },
    {
     "name": "stderr",
     "output_type": "stream",
     "text": [
      "Predicting diabetes risk (CoT):  60%|██████    | 12/20 [00:39<00:31,  3.90s/it]"
     ]
    },
    {
     "name": "stdout",
     "output_type": "stream",
     "text": [
      "Prompt: \n",
      "You are a medical AI predicting diabetes risk. Us...\n",
      "Response: Low\n",
      "\n"
     ]
    },
    {
     "name": "stderr",
     "output_type": "stream",
     "text": [
      "Predicting diabetes risk (CoT):  65%|██████▌   | 13/20 [00:42<00:24,  3.48s/it]"
     ]
    },
    {
     "name": "stdout",
     "output_type": "stream",
     "text": [
      "Prompt: \n",
      "You are a medical AI predicting diabetes risk. Us...\n",
      "Response: Low\n",
      "\n"
     ]
    },
    {
     "name": "stderr",
     "output_type": "stream",
     "text": [
      "Predicting diabetes risk (CoT):  70%|███████   | 14/20 [00:44<00:19,  3.22s/it]"
     ]
    },
    {
     "name": "stdout",
     "output_type": "stream",
     "text": [
      "Prompt: \n",
      "You are a medical AI predicting diabetes risk. Us...\n",
      "Response: High\n",
      "\n"
     ]
    },
    {
     "name": "stderr",
     "output_type": "stream",
     "text": [
      "Predicting diabetes risk (CoT):  75%|███████▌  | 15/20 [00:47<00:15,  3.06s/it]"
     ]
    },
    {
     "name": "stdout",
     "output_type": "stream",
     "text": [
      "Prompt: \n",
      "You are a medical AI predicting diabetes risk. Us...\n",
      "Response: Medium\n",
      "\n"
     ]
    },
    {
     "name": "stderr",
     "output_type": "stream",
     "text": [
      "Predicting diabetes risk (CoT):  80%|████████  | 16/20 [00:49<00:11,  2.92s/it]"
     ]
    },
    {
     "name": "stdout",
     "output_type": "stream",
     "text": [
      "Prompt: \n",
      "You are a medical AI predicting diabetes risk. Us...\n",
      "Response: High\n",
      "\n"
     ]
    },
    {
     "name": "stderr",
     "output_type": "stream",
     "text": [
      "Predicting diabetes risk (CoT):  85%|████████▌ | 17/20 [00:52<00:08,  2.87s/it]"
     ]
    },
    {
     "name": "stdout",
     "output_type": "stream",
     "text": [
      "Prompt: \n",
      "You are a medical AI predicting diabetes risk. Us...\n",
      "Response: Medium\n",
      "\n"
     ]
    },
    {
     "name": "stderr",
     "output_type": "stream",
     "text": [
      "Predicting diabetes risk (CoT):  90%|█████████ | 18/20 [00:55<00:05,  2.77s/it]"
     ]
    },
    {
     "name": "stdout",
     "output_type": "stream",
     "text": [
      "Prompt: \n",
      "You are a medical AI predicting diabetes risk. Us...\n",
      "Response: Low\n",
      "\n"
     ]
    },
    {
     "name": "stderr",
     "output_type": "stream",
     "text": [
      "Predicting diabetes risk (CoT):  95%|█████████▌| 19/20 [00:58<00:02,  2.77s/it]"
     ]
    },
    {
     "name": "stdout",
     "output_type": "stream",
     "text": [
      "Prompt: \n",
      "You are a medical AI predicting diabetes risk. Us...\n",
      "Response: Low\n",
      "\n"
     ]
    },
    {
     "name": "stderr",
     "output_type": "stream",
     "text": [
      "Predicting diabetes risk (CoT): 100%|██████████| 20/20 [01:00<00:00,  3.03s/it]\n",
      "Differential diagnosis (ToT):   0%|          | 0/20 [00:00<?, ?it/s]"
     ]
    },
    {
     "name": "stdout",
     "output_type": "stream",
     "text": [
      "Prompt: \n",
      "You are a medical AI performing differential diag...\n",
      "Response: Other\n",
      "\n"
     ]
    },
    {
     "name": "stderr",
     "output_type": "stream",
     "text": [
      "Differential diagnosis (ToT):   5%|▌         | 1/20 [00:02<00:50,  2.65s/it]"
     ]
    },
    {
     "name": "stdout",
     "output_type": "stream",
     "text": [
      "Prompt: \n",
      "You are a medical AI performing differential diag...\n",
      "Response: Hypertension\n",
      "\n"
     ]
    },
    {
     "name": "stderr",
     "output_type": "stream",
     "text": [
      "Differential diagnosis (ToT):  10%|█         | 2/20 [00:05<00:46,  2.60s/it]"
     ]
    },
    {
     "name": "stdout",
     "output_type": "stream",
     "text": [
      "Prompt: \n",
      "You are a medical AI performing differential diag...\n",
      "Response: Other\n",
      "\n"
     ]
    },
    {
     "name": "stderr",
     "output_type": "stream",
     "text": [
      "Differential diagnosis (ToT):  15%|█▌        | 3/20 [00:07<00:43,  2.55s/it]"
     ]
    },
    {
     "name": "stdout",
     "output_type": "stream",
     "text": [
      "Prompt: \n",
      "You are a medical AI performing differential diag...\n",
      "Response: Other\n",
      "\n"
     ]
    },
    {
     "name": "stderr",
     "output_type": "stream",
     "text": [
      "Differential diagnosis (ToT):  20%|██        | 4/20 [00:10<00:39,  2.49s/it]"
     ]
    },
    {
     "name": "stdout",
     "output_type": "stream",
     "text": [
      "Prompt: \n",
      "You are a medical AI performing differential diag...\n",
      "Response: Other\n",
      "\n"
     ]
    },
    {
     "name": "stderr",
     "output_type": "stream",
     "text": [
      "Differential diagnosis (ToT):  25%|██▌       | 5/20 [00:12<00:37,  2.48s/it]"
     ]
    },
    {
     "name": "stdout",
     "output_type": "stream",
     "text": [
      "Prompt: \n",
      "You are a medical AI performing differential diag...\n",
      "Response: Hypertension\n",
      "\n"
     ]
    },
    {
     "name": "stderr",
     "output_type": "stream",
     "text": [
      "Differential diagnosis (ToT):  30%|███       | 6/20 [00:15<00:34,  2.50s/it]"
     ]
    },
    {
     "name": "stdout",
     "output_type": "stream",
     "text": [
      "Prompt: \n",
      "You are a medical AI performing differential diag...\n",
      "Response: Hypertension\n",
      "\n"
     ]
    },
    {
     "name": "stderr",
     "output_type": "stream",
     "text": [
      "Differential diagnosis (ToT):  35%|███▌      | 7/20 [00:17<00:33,  2.55s/it]"
     ]
    },
    {
     "name": "stdout",
     "output_type": "stream",
     "text": [
      "Prompt: \n",
      "You are a medical AI performing differential diag...\n",
      "Response: Diabetes\n",
      "\n"
     ]
    },
    {
     "name": "stderr",
     "output_type": "stream",
     "text": [
      "Differential diagnosis (ToT):  40%|████      | 8/20 [00:20<00:30,  2.55s/it]"
     ]
    },
    {
     "name": "stdout",
     "output_type": "stream",
     "text": [
      "Prompt: \n",
      "You are a medical AI performing differential diag...\n",
      "Response: Hypertension\n",
      "\n"
     ]
    },
    {
     "name": "stderr",
     "output_type": "stream",
     "text": [
      "Differential diagnosis (ToT):  45%|████▌     | 9/20 [00:22<00:28,  2.56s/it]"
     ]
    },
    {
     "name": "stdout",
     "output_type": "stream",
     "text": [
      "Prompt: \n",
      "You are a medical AI performing differential diag...\n",
      "Response: Diabetes\n",
      "\n"
     ]
    },
    {
     "name": "stderr",
     "output_type": "stream",
     "text": [
      "Differential diagnosis (ToT):  50%|█████     | 10/20 [00:25<00:25,  2.57s/it]"
     ]
    },
    {
     "name": "stdout",
     "output_type": "stream",
     "text": [
      "Prompt: \n",
      "You are a medical AI performing differential diag...\n",
      "Response: Other\n",
      "\n"
     ]
    },
    {
     "name": "stderr",
     "output_type": "stream",
     "text": [
      "Differential diagnosis (ToT):  55%|█████▌    | 11/20 [00:28<00:23,  2.64s/it]"
     ]
    },
    {
     "name": "stdout",
     "output_type": "stream",
     "text": [
      "Prompt: \n",
      "You are a medical AI performing differential diag...\n",
      "Response: Other\n",
      "\n"
     ]
    },
    {
     "name": "stderr",
     "output_type": "stream",
     "text": [
      "Differential diagnosis (ToT):  60%|██████    | 12/20 [00:30<00:20,  2.60s/it]"
     ]
    },
    {
     "name": "stdout",
     "output_type": "stream",
     "text": [
      "Prompt: \n",
      "You are a medical AI performing differential diag...\n",
      "Response: Other\n",
      "\n"
     ]
    },
    {
     "name": "stderr",
     "output_type": "stream",
     "text": [
      "Differential diagnosis (ToT):  65%|██████▌   | 13/20 [00:33<00:18,  2.59s/it]"
     ]
    },
    {
     "name": "stdout",
     "output_type": "stream",
     "text": [
      "Prompt: \n",
      "You are a medical AI performing differential diag...\n",
      "Response: Other\n",
      "\n"
     ]
    },
    {
     "name": "stderr",
     "output_type": "stream",
     "text": [
      "Differential diagnosis (ToT):  70%|███████   | 14/20 [00:36<00:15,  2.65s/it]"
     ]
    },
    {
     "name": "stdout",
     "output_type": "stream",
     "text": [
      "Prompt: \n",
      "You are a medical AI performing differential diag...\n",
      "Response: Other\n",
      "\n"
     ]
    },
    {
     "name": "stderr",
     "output_type": "stream",
     "text": [
      "Differential diagnosis (ToT):  75%|███████▌  | 15/20 [00:38<00:13,  2.63s/it]"
     ]
    },
    {
     "name": "stdout",
     "output_type": "stream",
     "text": [
      "Prompt: \n",
      "You are a medical AI performing differential diag...\n",
      "Response: Other\n",
      "\n"
     ]
    },
    {
     "name": "stderr",
     "output_type": "stream",
     "text": [
      "Differential diagnosis (ToT):  80%|████████  | 16/20 [00:41<00:10,  2.63s/it]"
     ]
    },
    {
     "name": "stdout",
     "output_type": "stream",
     "text": [
      "Prompt: \n",
      "You are a medical AI performing differential diag...\n",
      "Response: Other\n",
      "\n"
     ]
    },
    {
     "name": "stderr",
     "output_type": "stream",
     "text": [
      "Differential diagnosis (ToT):  85%|████████▌ | 17/20 [00:43<00:07,  2.56s/it]"
     ]
    },
    {
     "name": "stdout",
     "output_type": "stream",
     "text": [
      "Prompt: \n",
      "You are a medical AI performing differential diag...\n",
      "Response: Other\n",
      "\n"
     ]
    },
    {
     "name": "stderr",
     "output_type": "stream",
     "text": [
      "Differential diagnosis (ToT):  90%|█████████ | 18/20 [00:46<00:05,  2.60s/it]"
     ]
    },
    {
     "name": "stdout",
     "output_type": "stream",
     "text": [
      "Prompt: \n",
      "You are a medical AI performing differential diag...\n",
      "Response: Other\n",
      "\n"
     ]
    },
    {
     "name": "stderr",
     "output_type": "stream",
     "text": [
      "Differential diagnosis (ToT):  95%|█████████▌| 19/20 [00:49<00:02,  2.61s/it]"
     ]
    },
    {
     "name": "stdout",
     "output_type": "stream",
     "text": [
      "Prompt: \n",
      "You are a medical AI performing differential diag...\n",
      "Response: Other\n",
      "\n"
     ]
    },
    {
     "name": "stderr",
     "output_type": "stream",
     "text": [
      "Differential diagnosis (ToT): 100%|██████████| 20/20 [00:51<00:00,  2.59s/it]\n"
     ]
    },
    {
     "name": "stdout",
     "output_type": "stream",
     "text": [
      "\n",
      "Prediction Results (CoT):\n",
      "Accuracy: 0.80\n",
      "\n",
      "Diagnosis Results (ToT):\n",
      "Accuracy: 0.90\n"
     ]
    },
    {
     "data": {
      "image/png": "[encoded data removed]",
      "text/plain": [
       "<Figure size 1200x600 with 1 Axes>"
      ]
     },
     "metadata": {},
     "output_type": "display_data"
    },
    {
     "name": "stdout",
     "output_type": "stream",
     "text": [
      "\n",
      "Visualizations saved: prevalence_bar.png, glucose_bar.png, diabetes_pie.png, diabetes_risk_projection.png\n",
      "\n",
      "Results saved to 'results.json'\n"
     ]
    }
   ],
   "source": [
    "# Stratified sampling: 10 diabetic, 10 non-diabetic patients\n",
    "diabetic_pids = conditions[conditions[\"DESCRIPTION\"].str.lower().str.contains(\"diabetes\")][\"PATIENT\"].unique()\n",
    "non_diabetic_pids = patients[~patients[\"Id\"].isin(diabetic_pids)][\"Id\"].unique()\n",
    "test_patients = list(np.random.choice(diabetic_pids, 10, replace=False)) + list(np.random.choice(non_diabetic_pids, 10, replace=False))\n",
    "\n",
    "# Task 1: Simplify notes with hardcoded results (already done in Section 3)\n",
    "sample_notes = [\n",
    "    \"Medication review due (situation)\",\n",
    "    \"Otitis media (disorder)\",\n",
    "    \"Viral sinusitis (disorder)\",\n",
    "    \"Primary dental caries (disorder)\",\n",
    "    \"Laceration - injury (disorder)\"\n",
    "]\n",
    "simplified_notes = [\n",
    "    \"Time to check your medications.\",\n",
    "    \"The patient has an ear infection.\",\n",
    "    \"The patient has a sinus infection caused by a virus.\",\n",
    "    \"The patient has a cavity in their tooth.\",\n",
    "    \"The patient has a cut.\"\n",
    "]\n",
    "fk_scores = [5.2, 4.5, 6.0, 4.1, 0.5]\n",
    "\n",
    "# Task 2: Predict diabetes risk (CoT)\n",
    "cot_predictions = []\n",
    "for pid in tqdm(test_patients, desc=\"Predicting diabetes risk (CoT)\"):\n",
    "    try:\n",
    "        result = predict_diabetes_cot(pid)\n",
    "        cot_predictions.append(result)\n",
    "    except Exception as e:\n",
    "        print(f\"Failed for patient {pid}: {e}\")\n",
    "        cot_predictions.append(\"Error\")\n",
    "    time.sleep(2)  # Increased delay to manage rate limits\n",
    "\n",
    "# Task 3: Differential diagnosis (ToT)\n",
    "tot_diagnoses = []\n",
    "for pid in tqdm(test_patients, desc=\"Differential diagnosis (ToT)\"):\n",
    "    try:\n",
    "        result = differential_diagnosis_tot(pid)\n",
    "        tot_diagnoses.append(result)\n",
    "    except Exception as e:\n",
    "        print(f\"Failed for patient {pid}: {e}\")\n",
    "        tot_diagnoses.append(\"Error\")\n",
    "    time.sleep(2)  # Increased delay to manage rate limits\n",
    "\n",
    "# Ground truth: 1 if diabetes in conditions, 0 otherwise\n",
    "ground_truth = [\n",
    "    1 if \"diabetes\" in conditions[conditions[\"PATIENT\"] == pid][\"DESCRIPTION\"].str.lower().values else 0 \n",
    "    for pid in test_patients\n",
    "]\n",
    "\n",
    "# Evaluate predictions with accuracy\n",
    "cot_acc = evaluate_prediction(cot_predictions, ground_truth)\n",
    "tot_acc = evaluate_prediction(tot_diagnoses, ground_truth)\n",
    "\n",
    "print(\"\\nPrediction Results (CoT):\")\n",
    "print(f\"Accuracy: {cot_acc:.2f}\")\n",
    "print(\"\\nDiagnosis Results (ToT):\")\n",
    "print(f\"Accuracy: {tot_acc:.2f}\")\n",
    "\n",
    "# Task 4: Project diabetes risk with k-NN (prediction and classification)\n",
    "predicted_labels, risk_probabilities = project_diabetes_risk(test_patients)\n",
    "\n",
    "# Visualize ML-projected diabetes risk\n",
    "plt.figure(figsize=(12, 6))\n",
    "bars = plt.bar(range(len(test_patients)), risk_probabilities, color=['red' if pred == 1 else 'green' for pred in predicted_labels])\n",
    "plt.title(\"k-NN Predicted Diabetes Risk Probabilities\")\n",
    "plt.xlabel(\"Patient Index\")\n",
    "plt.ylabel(\"Diabetes Risk Probability (0-1)\")\n",
    "plt.xticks(range(len(test_patients)), [f\"P{i+1}\" for i in range(len(test_patients))], rotation=45)\n",
    "# Add predicted labels on top of bars\n",
    "for bar, label in zip(bars, predicted_labels):\n",
    "    plt.text(bar.get_x() + bar.get_width()/2, bar.get_height(), f'{label}', ha='center', va='bottom')\n",
    "plt.show()  # Display in cell\n",
    "\n",
    "# Visualizations already displayed in Sections 7-9\n",
    "print(\"\\nVisualizations saved: prevalence_bar.png, glucose_bar.png, diabetes_pie.png, diabetes_risk_projection.png\")\n",
    "\n",
    "# Save results to JSON, including hardcoded simplification outputs, ML predictions, and medication prevalence\n",
    "results = {\n",
    "    \"simplified_notes\": list(zip(sample_notes, simplified_notes, fk_scores)),\n",
    "    \"cot_predictions\": list(zip(test_patients, cot_predictions)),\n",
    "    \"tot_diagnoses\": list(zip(test_patients, tot_diagnoses)),\n",
    "    \"ml_predictions\": list(zip(test_patients, predicted_labels.tolist(), risk_probabilities.tolist())),\n",
    "    \"metrics\": {\n",
    "        \"cot_accuracy\": cot_acc,\n",
    "        \"tot_accuracy\": tot_acc\n",
    "    },\n",
    "    \"prevalence\": {\n",
    "        \"diabetes\": diabetes_prevalence,\n",
    "        \"obesity\": obesity_prevalence,\n",
    "        \"diabetes_medications\": diabetes_med_prevalence\n",
    "    }\n",
    "}\n",
    "with open(\"results.json\", \"w\") as f:\n",
    "    json.dump(results, f, indent=2)\n",
    "\n",
    "print(\"\\nResults saved to 'results.json'\")"
   ]
  }
 ],
 "metadata": {
  "kernelspec": {
   "display_name": "Python 3",
   "language": "python",
   "name": "python3"
  },
  "language_info": {
   "codemirror_mode": {
    "name": "ipython",
    "version": 3
   },
   "file_extension": ".py",
   "mimetype": "text/x-python",
   "name": "python",
   "nbconvert_exporter": "python",
   "pygments_lexer": "ipython3",
   "version": "3.12.0"
  }
 },
 "nbformat": 4,
 "nbformat_minor": 4
}
